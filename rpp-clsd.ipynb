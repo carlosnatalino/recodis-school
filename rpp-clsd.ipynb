{
 "cells": [
  {
   "cell_type": "markdown",
   "metadata": {},
   "source": [
    "# Exercise containing best replica placement solution (in user-to-replica distance terms) and critical link set detection\n",
    "Authors: Carlos Natalino, Marija Furdek and Amaro de Sousa\n",
    "\n",
    "Paper used as basis: [IEEEXplore](https://ieeexplore.ieee.org/abstract/document/8489838)"
   ]
  },
  {
   "cell_type": "code",
   "execution_count": null,
   "metadata": {},
   "outputs": [],
   "source": [
    "# input definition\n",
    "\n",
    "# definition of the topology used\n",
    "topology = 'Germany50'\n",
    "# topology = 'Coronet'\n",
    "\n",
    "# budget for the RPP\n",
    "budget = 4 # input: R\n",
    "\n",
    "# pmin and pmax for the CLSD\n",
    "pmin = 2\n",
    "pmax = 12"
   ]
  },
  {
   "cell_type": "markdown",
   "metadata": {},
   "source": [
    "Germany50             |  Coronet\n",
    ":-------------------------:|:-------------------------:\n",
    "![](./results/Germany50_original.svg)  |  ![](./results/Coronet_original.svg)"
   ]
  },
  {
   "cell_type": "code",
   "execution_count": null,
   "metadata": {},
   "outputs": [],
   "source": [
    "import networkx as nx\n",
    "import numpy as np\n",
    "import datetime\n",
    "import math\n",
    "\n",
    "import matplotlib\n",
    "import matplotlib.pyplot as plt\n",
    "\n",
    "import reader\n",
    "from cdn_functions import rpp_min_d, clsd\n",
    "\n",
    "import sys\n",
    "\n",
    "%matplotlib inline\n",
    "%config InlineBackend.figure_format = 'svg'\n",
    "\n",
    "import logging\n",
    "logging.getLogger('matplotlib').setLevel(logging.FATAL)\n",
    "\n",
    "from matplotlib import rcParams\n",
    "# rcParams['font.family'] = 'sans-serif'\n",
    "# rcParams['font.sans-serif'] = ['Times New Roman', 'Times']\n",
    "rcParams['font.size'] = 18"
   ]
  },
  {
   "cell_type": "markdown",
   "metadata": {},
   "source": [
    "## Reading general inputs"
   ]
  },
  {
   "cell_type": "code",
   "execution_count": null,
   "metadata": {},
   "outputs": [],
   "source": [
    "fig_size = {}\n",
    "fig_size['Coronet'] = (9, 6)\n",
    "fig_size['Germany50'] = (6, 8)\n",
    "\n",
    "graph = reader.read_file('./topologies/' + topology + '.txt', topology)"
   ]
  },
  {
   "cell_type": "markdown",
   "metadata": {},
   "source": [
    "### Plotting original topology"
   ]
  },
  {
   "cell_type": "code",
   "execution_count": null,
   "metadata": {},
   "outputs": [],
   "source": [
    "plt.figure(figsize=fig_size[topology])\n",
    "pos = nx.get_node_attributes(graph, 'pos')\n",
    "plt.axis('off')\n",
    "nx.draw_networkx(graph, pos, node_color='white', edgecolors='black')\n",
    "plt.tight_layout()\n",
    "# plt.savefig('./results/{}.pdf'.format(topology)) # you can set the format to pdf, png, eps, etc.\n",
    "plt.show()\n",
    "plt.close()"
   ]
  },
  {
   "cell_type": "markdown",
   "metadata": {},
   "source": [
    "### Plotting topology with node names"
   ]
  },
  {
   "cell_type": "code",
   "execution_count": null,
   "metadata": {},
   "outputs": [],
   "source": [
    "plt.figure(figsize=fig_size[topology])\n",
    "pos = nx.get_node_attributes(graph, 'pos')\n",
    "node_names = nx.get_node_attributes(graph, 'name')\n",
    "plt.axis('off')\n",
    "nx.draw_networkx(graph, pos, labels=node_names, font_color='red', node_color='white', edgecolors='black')\n",
    "plt.tight_layout()\n",
    "# plt.savefig('./results/{}_node_labels.pdf'.format(topology)) # you can set the format to pdf, png, eps, etc.\n",
    "plt.show()\n",
    "plt.close()"
   ]
  },
  {
   "cell_type": "markdown",
   "metadata": {},
   "source": [
    "### Plotting topology with link lengths"
   ]
  },
  {
   "cell_type": "code",
   "execution_count": null,
   "metadata": {},
   "outputs": [],
   "source": [
    "plt.figure(figsize=fig_size[topology])\n",
    "pos = nx.get_node_attributes(graph, 'pos')\n",
    "link_length = nx.get_edge_attributes(graph, 'weight')\n",
    "plt.axis('off')\n",
    "nx.draw_networkx(graph, pos, with_labels=False, node_color='white', edgecolors='black')\n",
    "nx.draw_networkx_edge_labels(graph, pos, link_length)\n",
    "plt.tight_layout()\n",
    "# plt.savefig('./results/{}_link_length.pdf'.format(topology)) # you can set the format to pdf, png, eps, etc.\n",
    "plt.show()\n",
    "plt.close()"
   ]
  },
  {
   "cell_type": "markdown",
   "metadata": {},
   "source": [
    "## Replica placement\n",
    "\n",
    "The function `rpp_min_d` returns the values of the variables from the problem in the form of a Python dictionary.\n",
    "It receives as input the graph and the budget, i.e., the number of DCs to be placed.\n",
    "Consult the paper for more information."
   ]
  },
  {
   "cell_type": "code",
   "execution_count": null,
   "metadata": {},
   "outputs": [],
   "source": [
    "variables_rpp = rpp_min_d(graph, budget)"
   ]
  },
  {
   "cell_type": "markdown",
   "metadata": {},
   "source": [
    "### Visualizing the solution"
   ]
  },
  {
   "cell_type": "code",
   "execution_count": null,
   "metadata": {},
   "outputs": [],
   "source": [
    "plt.figure(figsize=fig_size[topology])\n",
    "pos = nx.get_node_attributes(graph, 'pos')\n",
    "plt.axis('off')\n",
    "\n",
    "plt.title('{} / Avg. replica distance: {:.2f}'.format(topology, variables_rpp['sum_distance'] / (graph.number_of_nodes() - budget)), fontsize=10)\n",
    "\n",
    "# drawing only the network edges\n",
    "nx.draw_networkx_edges(graph, pos)\n",
    "\n",
    "cmap = matplotlib.cm.get_cmap('tab20')\n",
    "norm = matplotlib.colors.Normalize(vmin=0, vmax=graph.number_of_nodes())\n",
    "\n",
    "for q in graph.nodes(): # for all the nodes\n",
    "    if variables_rpp[f'r_{q}'] == 1: # if a node was selected as DC\n",
    "        nodes_x = []\n",
    "        nodes_y = []\n",
    "        for s in graph.nodes(): # for all the nodes\n",
    "            if q != s and variables_rpp[f'y_{q}_{s}'] == 1: # node s is using node q as DC\n",
    "                nodes_x.append(pos[s][0])\n",
    "                nodes_y.append(pos[s][1])\n",
    "        plt.scatter(pos[q][0], pos[q][1], color=cmap(norm(float(q))), alpha=1., marker='s', linewidths=1., edgecolors='black', s=160.)\n",
    "        plt.scatter(nodes_x, nodes_y, color=cmap(norm(float(q))), alpha=1., marker='o', linewidths=1., edgecolors='black', s=120.)\n",
    "\n",
    "plt.tight_layout()\n",
    "# plt.savefig('./results/{}_{}.pdf'.format(topology, budget)) # you can set the format to pdf, png, eps, etc.\n",
    "plt.show()\n",
    "plt.close()\n",
    "\n",
    "# uncomment the following lines to print the distance to replica from each non-DC node\n",
    "# distances = []\n",
    "# for s in graph.nodes():\n",
    "#     if variables_rpp[f'r_{s}'] == 1:\n",
    "#         print('Node\\t', s, '\\t DC')\n",
    "#     else:\n",
    "#         distance = 0\n",
    "#         for (i, j) in graph.edges():\n",
    "#             if variables_rpp[f'z_{s}_{i}_{j}'] == 1 or variables_rpp[f'z_{s}_{j}_{i}'] == 1:\n",
    "#                 distance += float(graph[i][j]['weight'])\n",
    "#         print('Node\\t', s, '\\t{:.2f}'.format(distance))\n",
    "#         distances.append(distance)\n",
    "# print('Avg:\\t{:.2f}'.format(np.mean(distances)), '\\tStd dev:\\t{:.2f}'.format(np.std(distances)))"
   ]
  },
  {
   "cell_type": "markdown",
   "metadata": {},
   "source": [
    "## Critical link set detection (CLSD)\n",
    "\n",
    "Function `clsd` returns the variable values of the solution for a given graph, placement solution and p."
   ]
  },
  {
   "cell_type": "code",
   "execution_count": null,
   "metadata": {},
   "outputs": [],
   "source": [
    "solutions_clsd = {}\n",
    "aca_values = []\n",
    "for p in range(pmin, pmax+1):\n",
    "    \n",
    "    solutions_clsd[p] = clsd(graph, variables_rpp, p)\n",
    "    aca_value = (solutions_clsd[p]['sum_connected'] + budget) / graph.number_of_nodes()\n",
    "    aca_values.append(aca_value)\n",
    "    \n",
    "    # only plots the graph representation for odd values of p\n",
    "    if p % 3 != 0:\n",
    "        continue\n",
    "    \n",
    "    plt.figure(figsize=fig_size[topology])\n",
    "    pos = nx.get_node_attributes(graph, 'pos')\n",
    "    plt.axis('off')\n",
    "\n",
    "    plt.title('{} / p: {} / Disconnected nodes: {} / ACA: {}'.format(topology, \n",
    "                                                                  p, \n",
    "                                                                  int(graph.number_of_nodes() - budget - solutions_clsd[p]['sum_connected']),\n",
    "                                                                  aca_value),\n",
    "              fontsize=10)\n",
    "\n",
    "    cmap = matplotlib.cm.get_cmap('tab20')\n",
    "    norm = matplotlib.colors.Normalize(vmin=0, vmax=graph.number_of_nodes())\n",
    "    \n",
    "    # drawing network edges\n",
    "    normal_edges = []\n",
    "    critical_edges = []\n",
    "    for i,j in graph.edges():\n",
    "        if solutions_clsd[p][f'x_{i}_{j}'] == 0: # not a critical edge\n",
    "            normal_edges.append((i,j))\n",
    "        else:\n",
    "            critical_edges.append((i, j))\n",
    "    nx.draw_networkx_edges(graph, pos, normal_edges)\n",
    "    nx.draw_networkx_edges(graph, pos, critical_edges, edge_color='r', style='--')\n",
    "\n",
    "    disconnected_nodes = {}\n",
    "    dni = 1\n",
    "    for q in graph.nodes(): # for all the nodes\n",
    "        if variables_rpp[f'r_{q}'] == 0 and solutions_clsd[p][f'v_{q}'] == 0:\n",
    "            disconnected_nodes[q] = str(dni)\n",
    "            dni += 1\n",
    "        if variables_rpp[f'r_{q}'] == 1: # if a node was selected as DC\n",
    "            nodes_x = []\n",
    "            nodes_y = []\n",
    "            for s in graph.nodes(): # for all the nodes\n",
    "                if q != s and variables_rpp[f'y_{q}_{s}'] == 1: # node s is using node q as DC\n",
    "                    nodes_x.append(pos[s][0])\n",
    "                    nodes_y.append(pos[s][1])\n",
    "            plt.scatter(pos[q][0], pos[q][1], color=cmap(norm(float(q))), alpha=1., marker='s', linewidths=1., edgecolors='black', s=180.)\n",
    "            plt.scatter(nodes_x, nodes_y, color=cmap(norm(float(q))), alpha=1., marker='o', linewidths=1., edgecolors='black', s=160.)\n",
    "    \n",
    "#     nx.draw_networkx_labels(graph, {key: (p[0], p[1]+.2) for key, p in pos.items()}, disconnected_nodes, font_color='red')\n",
    "    plt.scatter([p[0] for key, p in pos.items() if key in disconnected_nodes],\n",
    "                [p[1] for key, p in pos.items() if key in disconnected_nodes], marker='*', color='red', s=80)\n",
    "\n",
    "    plt.tight_layout()\n",
    "    # plt.savefig('./results/{}_{}.pdf'.format(topology, budget)) # you can set the format to pdf, png, eps, etc.\n",
    "    plt.show()\n",
    "    plt.close()"
   ]
  },
  {
   "cell_type": "code",
   "execution_count": null,
   "metadata": {},
   "outputs": [],
   "source": [
    "plt.figure()\n",
    "\n",
    "plt.plot(range(pmin, pmax+1), aca_values, label='ACA', marker='s')\n",
    "plt.plot(range(pmin, pmax+1), np.tile(np.mean(aca_values), len(aca_values)), label='$\\mu$-ACA', linestyle='--')\n",
    "plt.text(pmax-1, np.mean(aca_values)+.01, '{:.3f}'.format(np.mean(aca_values)))\n",
    "plt.xlabel('p')\n",
    "plt.ylabel('Value')\n",
    "plt.legend(loc=1)\n",
    "plt.tight_layout()\n",
    "plt.show()"
   ]
  }
 ],
 "metadata": {
  "kernelspec": {
   "display_name": "Python 3",
   "language": "python",
   "name": "python3"
  },
  "language_info": {
   "codemirror_mode": {
    "name": "ipython",
    "version": 3
   },
   "file_extension": ".py",
   "mimetype": "text/x-python",
   "name": "python",
   "nbconvert_exporter": "python",
   "pygments_lexer": "ipython3",
   "version": "3.7.4"
  }
 },
 "nbformat": 4,
 "nbformat_minor": 4
}
