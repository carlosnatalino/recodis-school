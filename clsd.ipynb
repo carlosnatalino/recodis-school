{
 "cells": [
  {
   "cell_type": "markdown",
   "metadata": {},
   "source": [
    "# Exercise containing an user defined set of replica placements and critical link set detection\n",
    "Authors: Carlos Natalino, Marija Furdek and Amaro de Sousa\n",
    "\n",
    "Paper used as basis: [IEEEXplore](https://ieeexplore.ieee.org/abstract/document/8489838)"
   ]
  },
  {
   "cell_type": "code",
   "execution_count": null,
   "metadata": {},
   "outputs": [],
   "source": [
    "# input definition\n",
    "\n",
    "# definition of the topology used\n",
    "# topology = 'Germany50'\n",
    "topology = 'Coronet'\n",
    "\n",
    "# definition of the replicas\n",
    "replica_placement = [3, 6, 50]\n",
    "\n",
    "# pmin and pmax for the CLSD\n",
    "pmin = 2\n",
    "pmax = 12"
   ]
  },
  {
   "cell_type": "markdown",
   "metadata": {},
   "source": [
    "Germany50             |  Coronet\n",
    ":-------------------------:|:-------------------------:\n",
    "![](./results/Germany50_original.svg)  |  ![](./results/Coronet_original.svg)"
   ]
  },
  {
   "cell_type": "code",
   "execution_count": null,
   "metadata": {},
   "outputs": [],
   "source": [
    "import networkx as nx\n",
    "import numpy as np\n",
    "import datetime\n",
    "import math\n",
    "\n",
    "import matplotlib\n",
    "import matplotlib.pyplot as plt\n",
    "\n",
    "import reader\n",
    "from cdn_functions import rpp_min_d, clsd\n",
    "\n",
    "import sys\n",
    "\n",
    "%matplotlib inline\n",
    "%config InlineBackend.figure_format = 'svg'\n",
    "\n",
    "import logging\n",
    "logging.getLogger('matplotlib').setLevel(logging.FATAL)\n",
    "\n",
    "from matplotlib import rcParams\n",
    "# rcParams['font.family'] = 'sans-serif'\n",
    "# rcParams['font.sans-serif'] = ['Times New Roman', 'Times']\n",
    "rcParams['font.size'] = 18"
   ]
  },
  {
   "cell_type": "markdown",
   "metadata": {},
   "source": [
    "## Reading general inputs"
   ]
  },
  {
   "cell_type": "code",
   "execution_count": null,
   "metadata": {},
   "outputs": [],
   "source": [
    "fig_size = {}\n",
    "fig_size['Coronet'] = (9, 6)\n",
    "fig_size['Germany50'] = (6, 8)\n",
    "\n",
    "graph = reader.read_file('./topologies/' + topology + '.txt', topology)\n",
    "budget = len(replica_placement)\n",
    "\n",
    "# consolidating placement\n",
    "variables_rpp = {}\n",
    "for q in graph.nodes():\n",
    "    if int(q) in replica_placement:\n",
    "        variables_rpp[f'r_{q}'] = 1\n",
    "    else:\n",
    "        variables_rpp[f'r_{q}'] = 0\n",
    "    for s in graph.nodes():\n",
    "        variables_rpp[f'y_{q}_{s}'] = 0\n",
    "        \n",
    "for s in graph.nodes():\n",
    "    if variables_rpp[f'r_{s}'] == 0:\n",
    "        selected_dc = None\n",
    "        best_distance = np.finfo(0.0).max\n",
    "        for q in graph.nodes():\n",
    "            if variables_rpp[f'r_{q}'] == 1:\n",
    "                path = nx.shortest_path(graph, s, q, weight='weight')\n",
    "                length = nx.shortest_path_length(graph, s, q, weight='weight')\n",
    "                if length < best_distance:\n",
    "                    selected_dc = q\n",
    "                    best_distance = length\n",
    "#         print(s, selected_dc)\n",
    "        variables_rpp[f'y_{selected_dc}_{s}'] = 1"
   ]
  },
  {
   "cell_type": "markdown",
   "metadata": {},
   "source": [
    "### Plotting original topology"
   ]
  },
  {
   "cell_type": "code",
   "execution_count": null,
   "metadata": {},
   "outputs": [],
   "source": [
    "plt.figure(figsize=fig_size[topology])\n",
    "pos = nx.get_node_attributes(graph, 'pos')\n",
    "plt.axis('off')\n",
    "nx.draw_networkx(graph, pos, node_color='white', edgecolors='black')\n",
    "plt.tight_layout()\n",
    "plt.savefig('./results/{}.pdf'.format(topology)) # you can set the format to pdf, png, eps, etc.\n",
    "plt.show()\n",
    "plt.close()"
   ]
  },
  {
   "cell_type": "markdown",
   "metadata": {},
   "source": [
    "### Visualizing the placement"
   ]
  },
  {
   "cell_type": "code",
   "execution_count": null,
   "metadata": {},
   "outputs": [],
   "source": [
    "plt.figure(figsize=fig_size[topology])\n",
    "pos = nx.get_node_attributes(graph, 'pos')\n",
    "plt.axis('off')\n",
    "\n",
    "plt.title('{}'.format(topology), fontsize=10)\n",
    "\n",
    "# drawing only the network edges\n",
    "nx.draw_networkx_edges(graph, pos)\n",
    "\n",
    "nx.draw_networkx_nodes(graph, pos, nodelist=[q for q in graph.nodes() if variables_rpp[f'r_{q}'] == 0], node_color='black')\n",
    "nx.draw_networkx_nodes(graph, pos, nodelist=[q for q in graph.nodes() if variables_rpp[f'r_{q}'] == 1], node_shape='s')\n",
    "\n",
    "plt.tight_layout()\n",
    "# plt.savefig('./results/{}_{}.pdf'.format(topology, budget)) # you can set the format to pdf, png, eps, etc.\n",
    "plt.show()\n",
    "plt.close()"
   ]
  },
  {
   "cell_type": "markdown",
   "metadata": {},
   "source": [
    "## Critical link set detection (CLSD)\n",
    "\n",
    "Function `clsd` returns the variable values of the solution for a given graph, placement solution and p."
   ]
  },
  {
   "cell_type": "code",
   "execution_count": null,
   "metadata": {},
   "outputs": [],
   "source": [
    "solutions_clsd = {}\n",
    "aca_values = []\n",
    "for p in range(pmin, pmax+1):\n",
    "    \n",
    "    solutions_clsd[p] = clsd(graph, variables_rpp, p)\n",
    "    aca_value = (solutions_clsd[p]['sum_connected'] + budget) / graph.number_of_nodes()\n",
    "    aca_values.append(aca_value)\n",
    "    \n",
    "    # only plots the graph representation for odd values of p\n",
    "    if p % 3 != 0:\n",
    "        continue\n",
    "    \n",
    "    plt.figure(figsize=fig_size[topology])\n",
    "    pos = nx.get_node_attributes(graph, 'pos')\n",
    "    plt.axis('off')\n",
    "\n",
    "    plt.title('{} / p: {} / Disconnected nodes: {} / ACA: {:.3f}'.format(topology, \n",
    "                                                                  p, \n",
    "                                                                  int(graph.number_of_nodes() - budget - solutions_clsd[p]['sum_connected']),\n",
    "                                                                  aca_value),\n",
    "              fontsize=10)\n",
    "    \n",
    "    cmap = matplotlib.cm.get_cmap('tab20')\n",
    "    norm = matplotlib.colors.Normalize(vmin=0, vmax=graph.number_of_nodes())\n",
    "\n",
    "    # drawing network edges\n",
    "    normal_edges = []\n",
    "    critical_edges = []\n",
    "    for i,j in graph.edges():\n",
    "        if solutions_clsd[p][f'x_{i}_{j}'] == 0: # not a critical edge\n",
    "            normal_edges.append((i,j))\n",
    "        else:\n",
    "            critical_edges.append((i, j))\n",
    "    nx.draw_networkx_edges(graph, pos, normal_edges)\n",
    "    nx.draw_networkx_edges(graph, pos, critical_edges, edge_color='r', style='--')\n",
    "\n",
    "    disconnected_nodes = {}\n",
    "    dni = 1\n",
    "    for q in graph.nodes(): # for all the nodes\n",
    "        if variables_rpp[f'r_{q}'] == 0 and solutions_clsd[p][f'v_{q}'] == 0:\n",
    "            disconnected_nodes[q] = str(dni)\n",
    "            dni += 1\n",
    "        if variables_rpp[f'r_{q}'] == 1: # if a node was selected as DC\n",
    "            nodes_x = []\n",
    "            nodes_y = []\n",
    "            for s in graph.nodes(): # for all the nodes\n",
    "                if q != s and variables_rpp[f'y_{q}_{s}'] == 1: # node s is using node q as DC\n",
    "                    nodes_x.append(pos[s][0])\n",
    "                    nodes_y.append(pos[s][1])\n",
    "            plt.scatter(pos[q][0], pos[q][1], color=cmap(norm(float(q))), alpha=1., marker='s', linewidths=1., edgecolors='black', s=180.)\n",
    "            plt.scatter(nodes_x, nodes_y, color=cmap(norm(float(q))), alpha=1., marker='o', linewidths=1., edgecolors='black', s=160.)\n",
    "    \n",
    "    plt.scatter([p[0] for key, p in pos.items() if key in disconnected_nodes],\n",
    "                [p[1] for key, p in pos.items() if key in disconnected_nodes], marker='*', color='red', s=80)\n",
    "\n",
    "    plt.tight_layout()\n",
    "    # plt.savefig('./results/{}_{}.pdf'.format(topology, budget)) # you can set the format to pdf, png, eps, etc.\n",
    "    plt.show()\n",
    "    plt.close()"
   ]
  },
  {
   "cell_type": "code",
   "execution_count": null,
   "metadata": {},
   "outputs": [],
   "source": [
    "plt.figure()\n",
    "\n",
    "plt.plot(range(pmin, pmax+1), aca_values, label='ACA', marker='s')\n",
    "plt.plot(range(pmin, pmax+1), np.tile(np.mean(aca_values), len(aca_values)), label='$\\mu$-ACA', linestyle='--', color='red')\n",
    "plt.text(pmax-1, np.mean(aca_values)+.01, '{:.3f}'.format(np.mean(aca_values)))\n",
    "plt.xlabel('p')\n",
    "plt.ylabel('Value')\n",
    "plt.legend(loc=1)\n",
    "plt.tight_layout()\n",
    "plt.show()"
   ]
  }
 ],
 "metadata": {
  "kernelspec": {
   "display_name": "Python 3",
   "language": "python",
   "name": "python3"
  },
  "language_info": {
   "codemirror_mode": {
    "name": "ipython",
    "version": 3
   },
   "file_extension": ".py",
   "mimetype": "text/x-python",
   "name": "python",
   "nbconvert_exporter": "python",
   "pygments_lexer": "ipython3",
   "version": "3.6.9"
  }
 },
 "nbformat": 4,
 "nbformat_minor": 4
}
